{
 "cells": [
  {
   "cell_type": "markdown",
   "metadata": {},
   "source": [
    "## Table of contents\n",
    "* [Introduction](#introduction)\n",
    "* [Data](#data)\n",
    "* [Analysis and Discussion](#analysis)\n",
    "* [Conclusion](#conclusion)"
   ]
  },
  {
   "cell_type": "markdown",
   "metadata": {},
   "source": [
    "## Introduction <a name=\"introduction\"></a>"
   ]
  },
  {
   "cell_type": "markdown",
   "metadata": {},
   "source": [
    "   Mixed martial arts is often an unpredictable sport, with many factors which go into deciding who will be the winner of any given bout.The very nature of the sport is choatic, and often, maxims such as the transitive property, do not hold, that is if fighter 'A' beat fight 'B', who beat fighter 'C', does not necessarily mean Fighter 'C' will beat fighter A (to see some practical examples see [here](https://www.mma-math.com/))\n",
    "   \n",
    "   It is often held, that having a longer reach is an adavantage and increases ones chances of winning, in this small project, we will use data science methods to determine if this holds true. \n",
    "\n"
   ]
  },
  {
   "cell_type": "code",
   "execution_count": 39,
   "metadata": {},
   "outputs": [
    {
     "name": "stdout",
     "output_type": "stream",
     "text": [
      "libraries imported\n"
     ]
    }
   ],
   "source": [
    "#import libraries needed \n",
    "# Web Scraping\n",
    "from bs4 import BeautifulSoup\n",
    "import requests\n",
    "\n",
    "# Data Cleaning\n",
    "import numpy as np\n",
    "import pandas as pd\n",
    "\n",
    "# Visualisation\n",
    "import seaborn as sns\n",
    "%matplotlib inline \n",
    "import matplotlib as mpl\n",
    "import matplotlib.pyplot as plt\n",
    "plt.style.use(['ggplot'])\n",
    "\n",
    "# Statistical Analysis\n",
    "import scipy\n",
    "from scipy import stats\n",
    "import statsmodels.api as sm \n",
    "from statsmodels.formula.api import ols\n",
    "from statsmodels.graphics.gofplots import qqplot\n",
    "\n",
    "# Miscellaneous\n",
    "import string\n",
    "import time\n",
    "print('libraries imported')"
   ]
  },
  {
   "cell_type": "markdown",
   "metadata": {},
   "source": [
    "## Data <a name=\"data\"></a>"
   ]
  },
  {
   "cell_type": "markdown",
   "metadata": {},
   "source": [
    "The data we will be using is statistics scraped from http://ufcstats.com/statistics/fighters. First we will scrape the data and store it into a dictionary. "
   ]
  },
  {
   "cell_type": "code",
   "execution_count": 2,
   "metadata": {},
   "outputs": [
    {
     "name": "stdout",
     "output_type": "stream",
     "text": [
      "done\n"
     ]
    }
   ],
   "source": [
    "#scrape the data and store it in a dictionary\n",
    "alphabet = string.ascii_lowercase\n",
    "\n",
    "fighter_stats = {}\n",
    "\n",
    "for letter in alphabet: \n",
    "    link = requests.get(f\"http://www.ufcstats.com/statistics/fighters?char={letter}&page=all\")\n",
    "    soup = BeautifulSoup(link.text, \"lxml\")\n",
    "    fighter_stats[letter] = soup.find_all(\"td\", {'class':'b-statistics__table-col'})\n",
    "    \n",
    "print(\"done\")\n"
   ]
  },
  {
   "cell_type": "markdown",
   "metadata": {},
   "source": [
    "Next we will create lists for each of the stats that we need, omitting the ones that are not required."
   ]
  },
  {
   "cell_type": "code",
   "execution_count": 3,
   "metadata": {},
   "outputs": [],
   "source": [
    "fighter_first_names = []\n",
    "\n",
    "for key, value in fighter_stats.items():\n",
    "    for fighter in np.arange(0, len(fighter_stats[key]), 11):\n",
    "        fighter_first_name = value[fighter].text.split(\"\\n\")[1]\n",
    "        fighter_first_names.append(fighter_first_name)\n",
    "    "
   ]
  },
  {
   "cell_type": "code",
   "execution_count": 4,
   "metadata": {},
   "outputs": [],
   "source": [
    "fighter_last_names = []\n",
    "\n",
    "for key, value in fighter_stats.items():\n",
    "    for fighter in np.arange(1, len(fighter_stats[key]) + 1, 11):\n",
    "        fighter_last_name = value[fighter].text.split(\"\\n\")[1]\n",
    "        fighter_last_names.append(fighter_last_name)"
   ]
  },
  {
   "cell_type": "code",
   "execution_count": 5,
   "metadata": {},
   "outputs": [],
   "source": [
    "fighter_reaches = []\n",
    "\n",
    "for key, value in fighter_stats.items():\n",
    "    for fighter in np.arange(5, len(fighter_stats[key]) + 5, 11):\n",
    "        fighter_reach = value[fighter].text.split(\"\\n\")[1][10:14]\n",
    "        fighter_reaches.append(fighter_reach)"
   ]
  },
  {
   "cell_type": "code",
   "execution_count": 8,
   "metadata": {},
   "outputs": [],
   "source": [
    "fighter_wins = []\n",
    "\n",
    "for key, value in fighter_stats.items():\n",
    "    for fighter in np.arange(7, len(fighter_stats[key]) + 7, 11):\n",
    "        fighter_win = value[fighter].text.split(\"\\n\")[1][10:]\n",
    "        fighter_wins.append(fighter_win)"
   ]
  },
  {
   "cell_type": "code",
   "execution_count": 10,
   "metadata": {},
   "outputs": [],
   "source": [
    "fighter_losses = []\n",
    "\n",
    "for key, value in fighter_stats.items():\n",
    "    for fighter in np.arange(8, len(fighter_stats[key]) + 8, 11):\n",
    "        fighter_loss = value[fighter].text.split(\"\\n\")[1][10:]\n",
    "        fighter_losses.append(fighter_loss)"
   ]
  },
  {
   "cell_type": "code",
   "execution_count": 11,
   "metadata": {},
   "outputs": [],
   "source": [
    "fighter_draws = []\n",
    "\n",
    "for key, value in fighter_stats.items():\n",
    "    for fighter in np.arange(9, len(fighter_stats[key]) + 9, 11):\n",
    "        fighter_draw = value[fighter].text.split(\"\\n\")[1][10:]\n",
    "        fighter_draws.append(fighter_draw)\n"
   ]
  },
  {
   "cell_type": "markdown",
   "metadata": {},
   "source": [
    "The next step is to create the data frame, and clean the data by dropping any cells with missing reachs, and making sure the numerical data is either an integer or a float."
   ]
  },
  {
   "cell_type": "code",
   "execution_count": 12,
   "metadata": {},
   "outputs": [
    {
     "data": {
      "text/html": [
       "<div>\n",
       "<style scoped>\n",
       "    .dataframe tbody tr th:only-of-type {\n",
       "        vertical-align: middle;\n",
       "    }\n",
       "\n",
       "    .dataframe tbody tr th {\n",
       "        vertical-align: top;\n",
       "    }\n",
       "\n",
       "    .dataframe thead th {\n",
       "        text-align: right;\n",
       "    }\n",
       "</style>\n",
       "<table border=\"1\" class=\"dataframe\">\n",
       "  <thead>\n",
       "    <tr style=\"text-align: right;\">\n",
       "      <th></th>\n",
       "      <th>first name</th>\n",
       "      <th>last name</th>\n",
       "      <th>reach</th>\n",
       "      <th>wins</th>\n",
       "      <th>losses</th>\n",
       "      <th>draws</th>\n",
       "    </tr>\n",
       "  </thead>\n",
       "  <tbody>\n",
       "    <tr>\n",
       "      <th>0</th>\n",
       "      <td>Tom</td>\n",
       "      <td>Aaron</td>\n",
       "      <td>--</td>\n",
       "      <td>5</td>\n",
       "      <td>3</td>\n",
       "      <td>0</td>\n",
       "    </tr>\n",
       "    <tr>\n",
       "      <th>1</th>\n",
       "      <td>Danny</td>\n",
       "      <td>Abbadi</td>\n",
       "      <td>--</td>\n",
       "      <td>4</td>\n",
       "      <td>6</td>\n",
       "      <td>0</td>\n",
       "    </tr>\n",
       "    <tr>\n",
       "      <th>2</th>\n",
       "      <td>David</td>\n",
       "      <td>Abbott</td>\n",
       "      <td>--</td>\n",
       "      <td>10</td>\n",
       "      <td>15</td>\n",
       "      <td>0</td>\n",
       "    </tr>\n",
       "    <tr>\n",
       "      <th>3</th>\n",
       "      <td>Shamil</td>\n",
       "      <td>Abdurakhimov</td>\n",
       "      <td>76.0</td>\n",
       "      <td>20</td>\n",
       "      <td>5</td>\n",
       "      <td>0</td>\n",
       "    </tr>\n",
       "    <tr>\n",
       "      <th>4</th>\n",
       "      <td>Hiroyuki</td>\n",
       "      <td>Abe</td>\n",
       "      <td>--</td>\n",
       "      <td>8</td>\n",
       "      <td>15</td>\n",
       "      <td>3</td>\n",
       "    </tr>\n",
       "  </tbody>\n",
       "</table>\n",
       "</div>"
      ],
      "text/plain": [
       "  first name     last name reach wins losses draws\n",
       "0        Tom         Aaron    --    5      3     0\n",
       "1      Danny        Abbadi    --    4      6     0\n",
       "2      David        Abbott    --   10     15     0\n",
       "3     Shamil  Abdurakhimov  76.0   20      5     0\n",
       "4   Hiroyuki           Abe    --    8     15     3"
      ]
     },
     "execution_count": 12,
     "metadata": {},
     "output_type": "execute_result"
    }
   ],
   "source": [
    "f_df = pd.DataFrame(fighter_first_names)\n",
    "f_df.rename(columns={0:\"first name\"}, inplace = True)\n",
    "\n",
    "f_df[\"last name\"] = fighter_last_names\n",
    "f_df[\"reach\"] = fighter_reaches\n",
    "f_df[\"wins\"] = fighter_wins\n",
    "f_df[\"losses\"] = fighter_losses\n",
    "f_df[\"draws\"] = fighter_draws\n",
    "\n",
    "f_df.head()\n",
    "\n"
   ]
  },
  {
   "cell_type": "code",
   "execution_count": 13,
   "metadata": {},
   "outputs": [
    {
     "name": "stdout",
     "output_type": "stream",
     "text": [
      "<class 'pandas.core.frame.DataFrame'>\n",
      "RangeIndex: 3559 entries, 0 to 3558\n",
      "Data columns (total 6 columns):\n",
      " #   Column      Non-Null Count  Dtype \n",
      "---  ------      --------------  ----- \n",
      " 0   first name  3559 non-null   object\n",
      " 1   last name   3559 non-null   object\n",
      " 2   reach       3559 non-null   object\n",
      " 3   wins        3559 non-null   object\n",
      " 4   losses      3559 non-null   object\n",
      " 5   draws       3559 non-null   object\n",
      "dtypes: object(6)\n",
      "memory usage: 167.0+ KB\n"
     ]
    }
   ],
   "source": [
    "f_df.info()"
   ]
  },
  {
   "cell_type": "code",
   "execution_count": 14,
   "metadata": {},
   "outputs": [
    {
     "data": {
      "text/html": [
       "<div>\n",
       "<style scoped>\n",
       "    .dataframe tbody tr th:only-of-type {\n",
       "        vertical-align: middle;\n",
       "    }\n",
       "\n",
       "    .dataframe tbody tr th {\n",
       "        vertical-align: top;\n",
       "    }\n",
       "\n",
       "    .dataframe thead th {\n",
       "        text-align: right;\n",
       "    }\n",
       "</style>\n",
       "<table border=\"1\" class=\"dataframe\">\n",
       "  <thead>\n",
       "    <tr style=\"text-align: right;\">\n",
       "      <th></th>\n",
       "      <th>first name</th>\n",
       "      <th>last name</th>\n",
       "      <th>reach</th>\n",
       "      <th>wins</th>\n",
       "      <th>losses</th>\n",
       "      <th>draws</th>\n",
       "    </tr>\n",
       "  </thead>\n",
       "  <tbody>\n",
       "    <tr>\n",
       "      <th>3</th>\n",
       "      <td>Shamil</td>\n",
       "      <td>Abdurakhimov</td>\n",
       "      <td>76.0</td>\n",
       "      <td>20</td>\n",
       "      <td>5</td>\n",
       "      <td>0</td>\n",
       "    </tr>\n",
       "    <tr>\n",
       "      <th>5</th>\n",
       "      <td>Daichi</td>\n",
       "      <td>Abe</td>\n",
       "      <td>71.0</td>\n",
       "      <td>6</td>\n",
       "      <td>2</td>\n",
       "      <td>0</td>\n",
       "    </tr>\n",
       "    <tr>\n",
       "      <th>8</th>\n",
       "      <td>Klidson</td>\n",
       "      <td>Abreu</td>\n",
       "      <td>74.0</td>\n",
       "      <td>15</td>\n",
       "      <td>5</td>\n",
       "      <td>0</td>\n",
       "    </tr>\n",
       "    <tr>\n",
       "      <th>11</th>\n",
       "      <td>Juan</td>\n",
       "      <td>Adams</td>\n",
       "      <td>80.0</td>\n",
       "      <td>5</td>\n",
       "      <td>3</td>\n",
       "      <td>0</td>\n",
       "    </tr>\n",
       "    <tr>\n",
       "      <th>12</th>\n",
       "      <td>Anthony</td>\n",
       "      <td>Adams</td>\n",
       "      <td>76.0</td>\n",
       "      <td>8</td>\n",
       "      <td>2</td>\n",
       "      <td>0</td>\n",
       "    </tr>\n",
       "  </tbody>\n",
       "</table>\n",
       "</div>"
      ],
      "text/plain": [
       "   first name     last name reach wins losses draws\n",
       "3      Shamil  Abdurakhimov  76.0   20      5     0\n",
       "5      Daichi           Abe  71.0    6      2     0\n",
       "8     Klidson         Abreu  74.0   15      5     0\n",
       "11       Juan         Adams  80.0    5      3     0\n",
       "12    Anthony         Adams  76.0    8      2     0"
      ]
     },
     "execution_count": 14,
     "metadata": {},
     "output_type": "execute_result"
    }
   ],
   "source": [
    "#drop all the fighters with missing reaches\n",
    "f_df = f_df[f_df[\"reach\"] != '--']\n",
    "f_df.head()"
   ]
  },
  {
   "cell_type": "code",
   "execution_count": 15,
   "metadata": {},
   "outputs": [
    {
     "name": "stdout",
     "output_type": "stream",
     "text": [
      "<class 'pandas.core.frame.DataFrame'>\n",
      "Int64Index: 1631 entries, 3 to 3558\n",
      "Data columns (total 6 columns):\n",
      " #   Column      Non-Null Count  Dtype  \n",
      "---  ------      --------------  -----  \n",
      " 0   first name  1631 non-null   object \n",
      " 1   last name   1631 non-null   object \n",
      " 2   reach       1631 non-null   float64\n",
      " 3   wins        1631 non-null   int32  \n",
      " 4   losses      1631 non-null   int32  \n",
      " 5   draws       1631 non-null   int32  \n",
      "dtypes: float64(1), int32(3), object(2)\n",
      "memory usage: 70.1+ KB\n"
     ]
    }
   ],
   "source": [
    "f_df[\"wins\"] = f_df[\"wins\"].astype(int)\n",
    "f_df[\"losses\"] = f_df[\"losses\"].astype(int)\n",
    "f_df[\"draws\"] = f_df[\"draws\"].astype(int)\n",
    "f_df[\"reach\"] = f_df['reach'].astype(float)\n",
    "f_df.info()"
   ]
  },
  {
   "cell_type": "markdown",
   "metadata": {},
   "source": [
    "Next we shall calculate the win ratio, by calculating total fights, and dividing wins by total fights"
   ]
  },
  {
   "cell_type": "code",
   "execution_count": 16,
   "metadata": {},
   "outputs": [
    {
     "data": {
      "text/html": [
       "<div>\n",
       "<style scoped>\n",
       "    .dataframe tbody tr th:only-of-type {\n",
       "        vertical-align: middle;\n",
       "    }\n",
       "\n",
       "    .dataframe tbody tr th {\n",
       "        vertical-align: top;\n",
       "    }\n",
       "\n",
       "    .dataframe thead th {\n",
       "        text-align: right;\n",
       "    }\n",
       "</style>\n",
       "<table border=\"1\" class=\"dataframe\">\n",
       "  <thead>\n",
       "    <tr style=\"text-align: right;\">\n",
       "      <th></th>\n",
       "      <th>first name</th>\n",
       "      <th>last name</th>\n",
       "      <th>reach</th>\n",
       "      <th>wins</th>\n",
       "      <th>losses</th>\n",
       "      <th>draws</th>\n",
       "      <th>total_fights</th>\n",
       "      <th>win_ratio</th>\n",
       "    </tr>\n",
       "  </thead>\n",
       "  <tbody>\n",
       "    <tr>\n",
       "      <th>3</th>\n",
       "      <td>Shamil</td>\n",
       "      <td>Abdurakhimov</td>\n",
       "      <td>76.0</td>\n",
       "      <td>20</td>\n",
       "      <td>5</td>\n",
       "      <td>0</td>\n",
       "      <td>25</td>\n",
       "      <td>0.80</td>\n",
       "    </tr>\n",
       "    <tr>\n",
       "      <th>5</th>\n",
       "      <td>Daichi</td>\n",
       "      <td>Abe</td>\n",
       "      <td>71.0</td>\n",
       "      <td>6</td>\n",
       "      <td>2</td>\n",
       "      <td>0</td>\n",
       "      <td>8</td>\n",
       "      <td>0.75</td>\n",
       "    </tr>\n",
       "    <tr>\n",
       "      <th>8</th>\n",
       "      <td>Klidson</td>\n",
       "      <td>Abreu</td>\n",
       "      <td>74.0</td>\n",
       "      <td>15</td>\n",
       "      <td>5</td>\n",
       "      <td>0</td>\n",
       "      <td>20</td>\n",
       "      <td>0.75</td>\n",
       "    </tr>\n",
       "    <tr>\n",
       "      <th>11</th>\n",
       "      <td>Juan</td>\n",
       "      <td>Adams</td>\n",
       "      <td>80.0</td>\n",
       "      <td>5</td>\n",
       "      <td>3</td>\n",
       "      <td>0</td>\n",
       "      <td>8</td>\n",
       "      <td>0.62</td>\n",
       "    </tr>\n",
       "    <tr>\n",
       "      <th>12</th>\n",
       "      <td>Anthony</td>\n",
       "      <td>Adams</td>\n",
       "      <td>76.0</td>\n",
       "      <td>8</td>\n",
       "      <td>2</td>\n",
       "      <td>0</td>\n",
       "      <td>10</td>\n",
       "      <td>0.80</td>\n",
       "    </tr>\n",
       "  </tbody>\n",
       "</table>\n",
       "</div>"
      ],
      "text/plain": [
       "   first name     last name  reach  wins  losses  draws  total_fights  \\\n",
       "3      Shamil  Abdurakhimov   76.0    20       5      0            25   \n",
       "5      Daichi           Abe   71.0     6       2      0             8   \n",
       "8     Klidson         Abreu   74.0    15       5      0            20   \n",
       "11       Juan         Adams   80.0     5       3      0             8   \n",
       "12    Anthony         Adams   76.0     8       2      0            10   \n",
       "\n",
       "    win_ratio  \n",
       "3        0.80  \n",
       "5        0.75  \n",
       "8        0.75  \n",
       "11       0.62  \n",
       "12       0.80  "
      ]
     },
     "execution_count": 16,
     "metadata": {},
     "output_type": "execute_result"
    }
   ],
   "source": [
    "#calculate total figths and win ratio\n",
    "f_df[\"total_fights\"] = f_df.wins + f_df.losses + f_df.draws \n",
    "f_df[\"win_ratio\"] = round(f_df.wins/f_df.total_fights, 2)\n",
    "\n",
    "f_df.head()\n"
   ]
  },
  {
   "cell_type": "code",
   "execution_count": 17,
   "metadata": {},
   "outputs": [
    {
     "name": "stdout",
     "output_type": "stream",
     "text": [
      "number of fighters: 1631\n"
     ]
    }
   ],
   "source": [
    "print(f'number of fighters: {len(f_df)}')"
   ]
  },
  {
   "cell_type": "code",
   "execution_count": 18,
   "metadata": {},
   "outputs": [
    {
     "name": "stdout",
     "output_type": "stream",
     "text": [
      "number of fighters: 1631\n"
     ]
    }
   ],
   "source": [
    "print(f'number of fighters: {len(f_df)}')"
   ]
  },
  {
   "cell_type": "markdown",
   "metadata": {},
   "source": [
    "## Analysis and Discussion <a name=\"analysis\"></a>"
   ]
  },
  {
   "cell_type": "markdown",
   "metadata": {},
   "source": [
    "Before we can conduct any analysis, we must determine if the data is [normally distrubuted](https://en.wikipedia.org/wiki/Normal_distribution) or not, this helps us in choosing which method to use in our analysis. There are many methods to determine this, here I will use a [Q-Q plot](https://en.wikipedia.org/wiki/Q%E2%80%93Q_plot) of the residuals, which plots the theoretical quantiles, which are normally distrubuted  against the sample quantiles. The more linear the graph, the closer to the normal distribution the data is. "
   ]
  },
  {
   "cell_type": "code",
   "execution_count": 19,
   "metadata": {},
   "outputs": [
    {
     "data": {
      "image/png": "[encoded data removed]",
      "text/plain": [
       "<Figure size 1080x576 with 1 Axes>"
      ]
     },
     "metadata": {},
     "output_type": "display_data"
    }
   ],
   "source": [
    "stance_model = ols(\"win_ratio ~ C(reach)\", data=f_df).fit()\n",
    "residuals = stance_model.resid\n",
    "\n",
    "fig = qqplot(residuals, line='45', fit=True)\n",
    "\n",
    "ax = plt.gca()\n",
    "fig.set_size_inches(15, 8)\n",
    "ax.set_xlabel(\"Theoretical Quantiles\", fontsize=13)\n",
    "ax.set_ylabel(\"Sample Quantiles\", fontsize=13)\n",
    "ax.set_title(\"Q-Q Plot of Residuals\", fontsize=16)\n",
    "plt.show()"
   ]
  },
  {
   "cell_type": "markdown",
   "metadata": {},
   "source": [
    "As we can see from the graph is fairly linear, which means it is close to normal distrbution"
   ]
  },
  {
   "cell_type": "markdown",
   "metadata": {},
   "source": [
    "To test if there is a linear correlation, that is if reach increases, win ratio increases, we will use the [Pearson correlation coefficient](https://en.wikipedia.org/wiki/Pearson_correlation_coefficient), which falls between -1 and 1, with -1 being a strong negetive correlation, 1 being a strong positive correlation, and 0 being no correlation. "
   ]
  },
  {
   "cell_type": "code",
   "execution_count": 38,
   "metadata": {},
   "outputs": [
    {
     "name": "stdout",
     "output_type": "stream",
     "text": [
      "Pearsons correlation: 0.0896\n"
     ]
    }
   ],
   "source": [
    "x = f_df['reach']\n",
    "y=f_df['win_ratio']\n",
    "r,p =scipy.stats.pearsonr(x, y)\n",
    "print('Pearsons correlation: %.4f' % r)\n",
    "#print(r)"
   ]
  },
  {
   "cell_type": "markdown",
   "metadata": {},
   "source": [
    "As we can see from the above, there is a very weak positive relationship between the two, as .0896 is closer to 0 then it is to 1. \n",
    "\n",
    "Another measure we can use to measure the strength of the relationship is the [Coefficient of determination](https://en.wikipedia.org/wiki/Coefficient_of_determination), also referred to as R<sup>2</sup>  which can tell us how much of the variance in the dependant variable(win ratio) is explained by the variation in the independant variable(reach). This gives us a more precise intrepration then the correlation above."
   ]
  },
  {
   "cell_type": "code",
   "execution_count": 43,
   "metadata": {},
   "outputs": [
    {
     "name": "stdout",
     "output_type": "stream",
     "text": [
      "The Coefficient of determination is:0.008024\n"
     ]
    }
   ],
   "source": [
    "x = f_df['reach']\n",
    "y=f_df['win_ratio']\n",
    "slope, intercept, r_value, p_value, std_err = stats.linregress(x, y)\n",
    "print('The Coefficient of determination is:%f' % r_value**2)"
   ]
  },
  {
   "cell_type": "markdown",
   "metadata": {},
   "source": [
    "From the above we can see that only .8% of the variation in win ratio is explained by the variation in reach, 99.2% remains unexplained.\n",
    "\n",
    "Finally, let's plot the two variables to visualize this data."
   ]
  },
  {
   "cell_type": "code",
   "execution_count": 23,
   "metadata": {},
   "outputs": [
    {
     "data": {
      "text/plain": [
       "Text(0.5, 1.0, 'Win Ratio vs Reach')"
      ]
     },
     "execution_count": 23,
     "metadata": {},
     "output_type": "execute_result"
    },
    {
     "data": {
      "image/png": "[encoded data removed]",
      "text/plain": [
       "<Figure size 1080x1080 with 1 Axes>"
      ]
     },
     "metadata": {},
     "output_type": "display_data"
    }
   ],
   "source": [
    "plt.figure(figsize=(15, 15))\n",
    "ax= sns.regplot(x='reach', y ='win_ratio', data=f_df, color = 'blue')\n",
    "ax.set_title('Win Ratio vs Reach')"
   ]
  },
  {
   "cell_type": "markdown",
   "metadata": {},
   "source": [
    "## Conclusion <a name=\"conclusion\"></a>"
   ]
  },
  {
   "cell_type": "markdown",
   "metadata": {},
   "source": [
    "   From the above analysis, we can conclude that reach has little to no effect on the outcome of a fight, based on the weak correlation between reach and win ratio and the very low R<sup>2</sup>, calculated above, as well as observing the plot. One should keep in mind, the sample size here was small, a a large sample size  is prefered because it would reduce the role of chance in the findings. Only UFC fighters were taken into consideration, and the sample size  could be  expanded to Bellator, One, and other promotions, and/or include boxers, kickboxers and Muay Thai fighters, and perhaps test if there it is a difference between combat sports. \n",
    "  \n",
    " \n",
    "  "
   ]
  },
  {
   "cell_type": "code",
   "execution_count": null,
   "metadata": {},
   "outputs": [],
   "source": []
  }
 ],
 "metadata": {
  "kernelspec": {
   "display_name": "Python 3",
   "language": "python",
   "name": "python3"
  },
  "language_info": {
   "codemirror_mode": {
    "name": "ipython",
    "version": 3
   },
   "file_extension": ".py",
   "mimetype": "text/x-python",
   "name": "python",
   "nbconvert_exporter": "python",
   "pygments_lexer": "ipython3",
   "version": "3.6.11"
  }
 },
 "nbformat": 4,
 "nbformat_minor": 4
}
